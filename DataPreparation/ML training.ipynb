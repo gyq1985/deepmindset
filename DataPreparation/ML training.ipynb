{
  "nbformat": 4,
  "nbformat_minor": 0,
  "metadata": {
    "colab": {
      "provenance": [],
      "gpuType": "T4",
      "authorship_tag": "ABX9TyPDguwHxI8X2Kxq4zPWRQHH",
      "include_colab_link": true
    },
    "kernelspec": {
      "name": "python3",
      "display_name": "Python 3"
    },
    "language_info": {
      "name": "python"
    },
    "accelerator": "GPU"
  },
  "cells": [
    {
      "cell_type": "markdown",
      "metadata": {
        "id": "view-in-github",
        "colab_type": "text"
      },
      "source": [
        "<a href=\"https://colab.research.google.com/github/gyq1985/deepmindset/blob/main/ML%20training.ipynb\" target=\"_parent\"><img src=\"https://colab.research.google.com/assets/colab-badge.svg\" alt=\"Open In Colab\"/></a>"
      ]
    },
    {
      "cell_type": "code",
      "source": [
        "!pip install clearml"
      ],
      "metadata": {
        "colab": {
          "base_uri": "https://localhost:8080/"
        },
        "id": "xPpKA4mDxnsY",
        "outputId": "fe565ab9-9eb3-49c7-d2a4-43c8a8a6c969"
      },
      "execution_count": 1,
      "outputs": [
        {
          "output_type": "stream",
          "name": "stdout",
          "text": [
            "Collecting clearml\n",
            "  Downloading clearml-1.18.0-py2.py3-none-any.whl.metadata (18 kB)\n",
            "Requirement already satisfied: attrs>=18.0 in /usr/local/lib/python3.11/dist-packages (from clearml) (25.3.0)\n",
            "Collecting furl>=2.0.0 (from clearml)\n",
            "  Downloading furl-2.1.4-py2.py3-none-any.whl.metadata (25 kB)\n",
            "Requirement already satisfied: jsonschema>=2.6.0 in /usr/local/lib/python3.11/dist-packages (from clearml) (4.23.0)\n",
            "Requirement already satisfied: numpy>=1.10 in /usr/local/lib/python3.11/dist-packages (from clearml) (2.0.2)\n",
            "Collecting pathlib2>=2.3.0 (from clearml)\n",
            "  Downloading pathlib2-2.3.7.post1-py2.py3-none-any.whl.metadata (3.5 kB)\n",
            "Requirement already satisfied: Pillow>=4.1.1 in /usr/local/lib/python3.11/dist-packages (from clearml) (11.2.1)\n",
            "Requirement already satisfied: psutil>=3.4.2 in /usr/local/lib/python3.11/dist-packages (from clearml) (5.9.5)\n",
            "Requirement already satisfied: pyparsing>=2.0.3 in /usr/local/lib/python3.11/dist-packages (from clearml) (3.2.3)\n",
            "Requirement already satisfied: python-dateutil>=2.6.1 in /usr/local/lib/python3.11/dist-packages (from clearml) (2.9.0.post0)\n",
            "Requirement already satisfied: PyYAML>=3.12 in /usr/local/lib/python3.11/dist-packages (from clearml) (6.0.2)\n",
            "Requirement already satisfied: requests>=2.20.0 in /usr/local/lib/python3.11/dist-packages (from clearml) (2.32.3)\n",
            "Requirement already satisfied: six>=1.16.0 in /usr/local/lib/python3.11/dist-packages (from clearml) (1.17.0)\n",
            "Requirement already satisfied: urllib3>=1.21.1 in /usr/local/lib/python3.11/dist-packages (from clearml) (2.4.0)\n",
            "Collecting pyjwt<2.10.0,>=2.4.0 (from clearml)\n",
            "  Downloading PyJWT-2.9.0-py3-none-any.whl.metadata (3.0 kB)\n",
            "Requirement already satisfied: referencing<0.40 in /usr/local/lib/python3.11/dist-packages (from clearml) (0.36.2)\n",
            "Collecting orderedmultidict>=1.0.1 (from furl>=2.0.0->clearml)\n",
            "  Downloading orderedmultidict-1.0.1-py2.py3-none-any.whl.metadata (1.3 kB)\n",
            "Requirement already satisfied: jsonschema-specifications>=2023.03.6 in /usr/local/lib/python3.11/dist-packages (from jsonschema>=2.6.0->clearml) (2025.4.1)\n",
            "Requirement already satisfied: rpds-py>=0.7.1 in /usr/local/lib/python3.11/dist-packages (from jsonschema>=2.6.0->clearml) (0.24.0)\n",
            "Requirement already satisfied: typing-extensions>=4.4.0 in /usr/local/lib/python3.11/dist-packages (from referencing<0.40->clearml) (4.13.2)\n",
            "Requirement already satisfied: charset-normalizer<4,>=2 in /usr/local/lib/python3.11/dist-packages (from requests>=2.20.0->clearml) (3.4.1)\n",
            "Requirement already satisfied: idna<4,>=2.5 in /usr/local/lib/python3.11/dist-packages (from requests>=2.20.0->clearml) (3.10)\n",
            "Requirement already satisfied: certifi>=2017.4.17 in /usr/local/lib/python3.11/dist-packages (from requests>=2.20.0->clearml) (2025.1.31)\n",
            "Downloading clearml-1.18.0-py2.py3-none-any.whl (1.2 MB)\n",
            "\u001b[2K   \u001b[90m━━━━━━━━━━━━━━━━━━━━━━━━━━━━━━━━━━━━━━━━\u001b[0m \u001b[32m1.2/1.2 MB\u001b[0m \u001b[31m18.0 MB/s\u001b[0m eta \u001b[36m0:00:00\u001b[0m\n",
            "\u001b[?25hDownloading furl-2.1.4-py2.py3-none-any.whl (27 kB)\n",
            "Downloading pathlib2-2.3.7.post1-py2.py3-none-any.whl (18 kB)\n",
            "Downloading PyJWT-2.9.0-py3-none-any.whl (22 kB)\n",
            "Downloading orderedmultidict-1.0.1-py2.py3-none-any.whl (11 kB)\n",
            "Installing collected packages: pyjwt, pathlib2, orderedmultidict, furl, clearml\n",
            "  Attempting uninstall: pyjwt\n",
            "    Found existing installation: PyJWT 2.10.1\n",
            "    Uninstalling PyJWT-2.10.1:\n",
            "      Successfully uninstalled PyJWT-2.10.1\n",
            "Successfully installed clearml-1.18.0 furl-2.1.4 orderedmultidict-1.0.1 pathlib2-2.3.7.post1 pyjwt-2.9.0\n"
          ]
        }
      ]
    },
    {
      "cell_type": "code",
      "source": [
        "!clearml-init"
      ],
      "metadata": {
        "colab": {
          "base_uri": "https://localhost:8080/"
        },
        "id": "iAocSGK4xsj9",
        "outputId": "16bc3417-1c07-4827-c09b-84cfa0b9edf3"
      },
      "execution_count": 2,
      "outputs": [
        {
          "output_type": "stream",
          "name": "stdout",
          "text": [
            "ClearML SDK setup process\n",
            "\n",
            "Please create new clearml credentials through the settings page in your `clearml-server` web app (e.g. http://localhost:8080//settings/workspace-configuration) \n",
            "Or create a free account at https://app.clear.ml/settings/workspace-configuration\n",
            "\n",
            "In settings page, press \"Create new credentials\", then press \"Copy to clipboard\".\n",
            "\n",
            "Paste copied configuration here:\n",
            "Traceback (most recent call last):\n",
            "object address  : 0x7cf219a39000\n",
            "object refcount : 2\n",
            "object type     : 0x9d5ea0\n",
            "object type name: KeyboardInterrupt\n",
            "object repr     : KeyboardInterrupt()\n",
            "lost sys.stderr\n",
            "Exception ignored in atexit callback: <bound method finalize._exitfunc of <class 'weakref.finalize'>>\n",
            "Traceback (most recent call last):\n",
            "  File \"/usr/lib/python3.11/weakref.py\", line 666, in _exitfunc\n",
            "^C\n"
          ]
        }
      ]
    },
    {
      "cell_type": "code",
      "source": [
        "import os\n",
        "import numpy as np\n",
        "import matplotlib.pyplot as plt\n",
        "from clearml import Task, Logger\n",
        "from tensorflow.keras.preprocessing.image import ImageDataGenerator\n",
        "from tensorflow.keras import layers, models, Input\n",
        "from tensorflow.keras.optimizers import Adam\n",
        "from tensorflow.keras.callbacks import EarlyStopping, ModelCheckpoint\n",
        "from tensorflow.keras.models import load_model\n",
        "from clearml import Task\n",
        "from PIL import Image\n",
        "\n",
        "# 🛠 手动设置 ClearML 服务器地址和访问密钥\n",
        "Task.set_credentials(\n",
        "    web_host='https://app.clear.ml',\n",
        "    api_host='https://api.clear.ml',\n",
        "    files_host='https://files.clear.ml',\n",
        "    key='Q9JQUW7NG3L7UIGUQ99CH6APXN7CWX',\n",
        "    secret='ZDyUBTNev2TSyADi6gkFMEPRwMUBughNu4uVKUPjH7UsImaBOTLh2B6nVU2CwvYQTcw'\n",
        ")\n",
        "\n",
        "# ✅ 然后正常写你的 Task.init\n",
        "task = Task.init(project_name=\"VGG16\", task_name=\"Pipeline Step 3 - Train Pneumonia Model\")\n",
        "\n",
        "# Step 1: Connect to ClearML\n",
        "task = Task.init(project_name=\"VGG16\", task_name=\"Pipeline Step 3 - Train Pneumonia Model\")\n",
        "logger = Logger.current_logger()\n",
        "\n",
        "# Step 2: Get Args\n",
        "args = {\n",
        "    'dataset_task_id': '405caed14d034630b33cf083a9fcc28d',  # ⬅️ 记得替换成真实的 Step 2 任务ID\n",
        "    'img_size': (224, 224),\n",
        "    'batch_size': 32,\n",
        "    'epochs': 20,\n",
        "}\n",
        "task.connect(args)\n",
        "# # Remote execution\n",
        "# task.execute_remotely()\n",
        "# Step 3: Get Uploaded Dataset Paths\n",
        "dataset_task = Task.get_task(task_id=args['dataset_task_id'])\n",
        "train_dir = dataset_task.artifacts['train_dir'].get()\n",
        "val_dir = dataset_task.artifacts['val_dir'].get()\n",
        "class_indices = dataset_task.artifacts['class_indices'].get()\n",
        "\n",
        "IMG_SIZE = args['img_size']\n",
        "BATCH_SIZE = args['batch_size']\n",
        "\n",
        "# Step 4: Setup ImageDataGenerator\n",
        "train_datagen = ImageDataGenerator(rescale=1./255)\n",
        "val_datagen = ImageDataGenerator(rescale=1./255)\n",
        "\n",
        "train_generator = train_datagen.flow_from_directory(\n",
        "    train_dir,\n",
        "    target_size=IMG_SIZE,\n",
        "    batch_size=BATCH_SIZE,\n",
        "    class_mode='categorical',\n",
        "    shuffle=True\n",
        ")\n",
        "\n",
        "val_generator = val_datagen.flow_from_directory(\n",
        "    val_dir,\n",
        "    target_size=IMG_SIZE,\n",
        "    batch_size=BATCH_SIZE,\n",
        "    class_mode='categorical',\n",
        "    shuffle=False\n",
        ")\n",
        "\n",
        "# Step 5: Build Lightweight CNN\n",
        "model = models.Sequential([\n",
        "    Input(shape=(224, 224, 3)),\n",
        "    layers.Conv2D(32, (3, 3), activation='relu'),\n",
        "    layers.MaxPooling2D(2, 2),\n",
        "    layers.Conv2D(64, (3, 3), activation='relu'),\n",
        "    layers.MaxPooling2D(2, 2),\n",
        "    layers.Flatten(),\n",
        "    layers.Dense(64, activation='relu'),\n",
        "    layers.Dropout(0.5),\n",
        "    layers.Dense(len(class_indices), activation='softmax')\n",
        "])\n",
        "\n",
        "model.compile(optimizer=Adam(learning_rate=0.0005),\n",
        "              loss='categorical_crossentropy',\n",
        "              metrics=['accuracy'])\n",
        "\n",
        "# Step 6: Add Callbacks\n",
        "early_stop = EarlyStopping(monitor='val_loss', patience=3, restore_best_weights=True)\n",
        "checkpoint = ModelCheckpoint(\"best_model.keras\", monitor='val_accuracy', save_best_only=True)\n",
        "\n",
        "# Step 7: Train Model\n",
        "history = model.fit(\n",
        "    train_generator,\n",
        "    epochs=args['epochs'],\n",
        "    validation_data=val_generator,\n",
        "    callbacks=[early_stop, checkpoint]\n",
        ")\n",
        "# Step 8: Upload best model as Artifact\n",
        "task.upload_artifact(name=\"best_model\", artifact_object=\"best_model.keras\")\n",
        "\n",
        "# Step 9: Plot training curves\n",
        "plt.figure(figsize=(10,4))\n",
        "plt.subplot(1,2,1)\n",
        "plt.plot(history.history['accuracy'], label='Train Acc')\n",
        "plt.plot(history.history['val_accuracy'], label='Val Acc')\n",
        "plt.title(\"Accuracy\")\n",
        "plt.xlabel(\"Epoch\")\n",
        "plt.ylabel(\"Accuracy\")\n",
        "plt.legend()\n",
        "\n",
        "plt.subplot(1,2,2)\n",
        "plt.plot(history.history['loss'], label='Train Loss')\n",
        "plt.plot(history.history['val_loss'], label='Val Loss')\n",
        "plt.title(\"Loss\")\n",
        "plt.xlabel(\"Epoch\")\n",
        "plt.ylabel(\"Loss\")\n",
        "plt.legend()\n",
        "\n",
        "plt.tight_layout()\n",
        "plt.savefig(\"training_curves.png\")\n",
        "img = Image.open(\"training_curves.png\")\n",
        "logger.report_image(\"training_curves\", \"Accuracy and Loss\", iteration=0, image=img)\n",
        "print(\"✅ Model training and logging done.\")"
      ],
      "metadata": {
        "colab": {
          "base_uri": "https://localhost:8080/",
          "height": 379
        },
        "id": "_FyD0-BQx77B",
        "outputId": "1c9cea7d-316b-403d-badc-b973b665c549"
      },
      "execution_count": 21,
      "outputs": [
        {
          "output_type": "error",
          "ename": "ValueError",
          "evalue": "Task object can only be updated if created or in_progress [status=stopped fields=['hyperparams']]",
          "traceback": [
            "\u001b[0;31m---------------------------------------------------------------------------\u001b[0m",
            "\u001b[0;31mValueError\u001b[0m                                Traceback (most recent call last)",
            "\u001b[0;32m<ipython-input-21-f23e36ee7f81>\u001b[0m in \u001b[0;36m<cell line: 0>\u001b[0;34m()\u001b[0m\n\u001b[1;32m     34\u001b[0m     \u001b[0;34m'epochs'\u001b[0m\u001b[0;34m:\u001b[0m \u001b[0;36m20\u001b[0m\u001b[0;34m,\u001b[0m\u001b[0;34m\u001b[0m\u001b[0;34m\u001b[0m\u001b[0m\n\u001b[1;32m     35\u001b[0m }\n\u001b[0;32m---> 36\u001b[0;31m \u001b[0mtask\u001b[0m\u001b[0;34m.\u001b[0m\u001b[0mconnect\u001b[0m\u001b[0;34m(\u001b[0m\u001b[0margs\u001b[0m\u001b[0;34m)\u001b[0m\u001b[0;34m\u001b[0m\u001b[0;34m\u001b[0m\u001b[0m\n\u001b[0m\u001b[1;32m     37\u001b[0m \u001b[0;34m\u001b[0m\u001b[0m\n\u001b[1;32m     38\u001b[0m \u001b[0;31m# Step 3: Get Uploaded Dataset Paths\u001b[0m\u001b[0;34m\u001b[0m\u001b[0;34m\u001b[0m\u001b[0m\n",
            "\u001b[0;32m/usr/local/lib/python3.11/dist-packages/clearml/task.py\u001b[0m in \u001b[0;36mconnect\u001b[0;34m(self, mutable, name, ignore_remote_overrides)\u001b[0m\n\u001b[1;32m   1919\u001b[0m         \u001b[0;32mfor\u001b[0m \u001b[0mmutable_type\u001b[0m\u001b[0;34m,\u001b[0m \u001b[0mmethod\u001b[0m \u001b[0;32min\u001b[0m \u001b[0mdispatch\u001b[0m\u001b[0;34m:\u001b[0m\u001b[0;34m\u001b[0m\u001b[0;34m\u001b[0m\u001b[0m\n\u001b[1;32m   1920\u001b[0m             \u001b[0;32mif\u001b[0m \u001b[0misinstance\u001b[0m\u001b[0;34m(\u001b[0m\u001b[0mmutable\u001b[0m\u001b[0;34m,\u001b[0m \u001b[0mmutable_type\u001b[0m\u001b[0;34m)\u001b[0m\u001b[0;34m:\u001b[0m\u001b[0;34m\u001b[0m\u001b[0;34m\u001b[0m\u001b[0m\n\u001b[0;32m-> 1921\u001b[0;31m                 \u001b[0;32mreturn\u001b[0m \u001b[0mmethod\u001b[0m\u001b[0;34m(\u001b[0m\u001b[0mmutable\u001b[0m\u001b[0;34m,\u001b[0m \u001b[0mname\u001b[0m\u001b[0;34m=\u001b[0m\u001b[0mname\u001b[0m\u001b[0;34m,\u001b[0m \u001b[0mignore_remote_overrides\u001b[0m\u001b[0;34m=\u001b[0m\u001b[0mignore_remote_overrides\u001b[0m\u001b[0;34m)\u001b[0m\u001b[0;34m\u001b[0m\u001b[0;34m\u001b[0m\u001b[0m\n\u001b[0m\u001b[1;32m   1922\u001b[0m \u001b[0;34m\u001b[0m\u001b[0m\n\u001b[1;32m   1923\u001b[0m         \u001b[0;32mraise\u001b[0m \u001b[0mException\u001b[0m\u001b[0;34m(\u001b[0m\u001b[0;34m'Unsupported mutable type %s: no connect function found'\u001b[0m \u001b[0;34m%\u001b[0m \u001b[0mtype\u001b[0m\u001b[0;34m(\u001b[0m\u001b[0mmutable\u001b[0m\u001b[0;34m)\u001b[0m\u001b[0;34m.\u001b[0m\u001b[0m__name__\u001b[0m\u001b[0;34m)\u001b[0m\u001b[0;34m\u001b[0m\u001b[0;34m\u001b[0m\u001b[0m\n",
            "\u001b[0;32m/usr/local/lib/python3.11/dist-packages/clearml/task.py\u001b[0m in \u001b[0;36m_connect_dictionary\u001b[0;34m(self, dictionary, name, ignore_remote_overrides)\u001b[0m\n\u001b[1;32m   4399\u001b[0m             \u001b[0m_check_keys\u001b[0m\u001b[0;34m(\u001b[0m\u001b[0mdictionary\u001b[0m\u001b[0;34m)\u001b[0m\u001b[0;34m\u001b[0m\u001b[0;34m\u001b[0m\u001b[0m\n\u001b[1;32m   4400\u001b[0m             \u001b[0mflat_dict\u001b[0m \u001b[0;34m=\u001b[0m \u001b[0;34m{\u001b[0m\u001b[0mstr\u001b[0m\u001b[0;34m(\u001b[0m\u001b[0mk\u001b[0m\u001b[0;34m)\u001b[0m\u001b[0;34m:\u001b[0m \u001b[0mv\u001b[0m \u001b[0;32mfor\u001b[0m \u001b[0mk\u001b[0m\u001b[0;34m,\u001b[0m \u001b[0mv\u001b[0m \u001b[0;32min\u001b[0m \u001b[0mflatten_dictionary\u001b[0m\u001b[0;34m(\u001b[0m\u001b[0mdictionary\u001b[0m\u001b[0;34m)\u001b[0m\u001b[0;34m.\u001b[0m\u001b[0mitems\u001b[0m\u001b[0;34m(\u001b[0m\u001b[0;34m)\u001b[0m\u001b[0;34m}\u001b[0m\u001b[0;34m\u001b[0m\u001b[0;34m\u001b[0m\u001b[0m\n\u001b[0;32m-> 4401\u001b[0;31m             \u001b[0mself\u001b[0m\u001b[0;34m.\u001b[0m\u001b[0m_arguments\u001b[0m\u001b[0;34m.\u001b[0m\u001b[0mcopy_from_dict\u001b[0m\u001b[0;34m(\u001b[0m\u001b[0mflat_dict\u001b[0m\u001b[0;34m,\u001b[0m \u001b[0mprefix\u001b[0m\u001b[0;34m=\u001b[0m\u001b[0mname\u001b[0m\u001b[0;34m)\u001b[0m\u001b[0;34m\u001b[0m\u001b[0;34m\u001b[0m\u001b[0m\n\u001b[0m\u001b[1;32m   4402\u001b[0m             \u001b[0mdictionary\u001b[0m \u001b[0;34m=\u001b[0m \u001b[0mProxyDictPostWrite\u001b[0m\u001b[0;34m(\u001b[0m\u001b[0mself\u001b[0m\u001b[0;34m,\u001b[0m \u001b[0m_update_args_dict\u001b[0m\u001b[0;34m,\u001b[0m \u001b[0;34m**\u001b[0m\u001b[0mdictionary\u001b[0m\u001b[0;34m)\u001b[0m\u001b[0;34m\u001b[0m\u001b[0;34m\u001b[0m\u001b[0m\n\u001b[1;32m   4403\u001b[0m         \u001b[0;32melse\u001b[0m\u001b[0;34m:\u001b[0m\u001b[0;34m\u001b[0m\u001b[0;34m\u001b[0m\u001b[0m\n",
            "\u001b[0;32m/usr/local/lib/python3.11/dist-packages/clearml/backend_interface/task/args.py\u001b[0m in \u001b[0;36mcopy_from_dict\u001b[0;34m(self, dictionary, prefix, descriptions, param_types)\u001b[0m\n\u001b[1;32m    466\u001b[0m                 \u001b[0mparam_types\u001b[0m \u001b[0;34m=\u001b[0m \u001b[0mdict\u001b[0m\u001b[0;34m(\u001b[0m\u001b[0;34m(\u001b[0m\u001b[0mprefix\u001b[0m \u001b[0;34m+\u001b[0m \u001b[0mk\u001b[0m\u001b[0;34m,\u001b[0m \u001b[0mv\u001b[0m\u001b[0;34m)\u001b[0m \u001b[0;32mfor\u001b[0m \u001b[0mk\u001b[0m\u001b[0;34m,\u001b[0m \u001b[0mv\u001b[0m \u001b[0;32min\u001b[0m \u001b[0mparam_types\u001b[0m\u001b[0;34m.\u001b[0m\u001b[0mitems\u001b[0m\u001b[0;34m(\u001b[0m\u001b[0;34m)\u001b[0m\u001b[0;34m)\u001b[0m\u001b[0;34m\u001b[0m\u001b[0;34m\u001b[0m\u001b[0m\n\u001b[1;32m    467\u001b[0m             \u001b[0;31m# this will only set the specific section\u001b[0m\u001b[0;34m\u001b[0m\u001b[0;34m\u001b[0m\u001b[0m\n\u001b[0;32m--> 468\u001b[0;31m             self._task.update_parameters(\n\u001b[0m\u001b[1;32m    469\u001b[0m                 \u001b[0mdictionary\u001b[0m\u001b[0;34m,\u001b[0m\u001b[0;34m\u001b[0m\u001b[0;34m\u001b[0m\u001b[0m\n\u001b[1;32m    470\u001b[0m                 \u001b[0m__parameters_prefix\u001b[0m\u001b[0;34m=\u001b[0m\u001b[0mprefix\u001b[0m\u001b[0;34m,\u001b[0m\u001b[0;34m\u001b[0m\u001b[0;34m\u001b[0m\u001b[0m\n",
            "\u001b[0;32m/usr/local/lib/python3.11/dist-packages/clearml/backend_interface/task/task.py\u001b[0m in \u001b[0;36mupdate_parameters\u001b[0;34m(self, *args, **kwargs)\u001b[0m\n\u001b[1;32m   1415\u001b[0m         \u001b[0;34m:\u001b[0m\u001b[0mparam\u001b[0m \u001b[0mkwargs\u001b[0m\u001b[0;34m:\u001b[0m \u001b[0mKey\u001b[0m\u001b[0;34m-\u001b[0m\u001b[0mvalue\u001b[0m \u001b[0mpairs\u001b[0m\u001b[0;34m,\u001b[0m \u001b[0mmerged\u001b[0m \u001b[0minto\u001b[0m \u001b[0mthe\u001b[0m \u001b[0mparameters\u001b[0m \u001b[0mdictionary\u001b[0m \u001b[0mcreated\u001b[0m \u001b[0;32mfrom\u001b[0m\u001b[0;31m \u001b[0m\u001b[0;31m`\u001b[0m\u001b[0;31m`\u001b[0m\u001b[0margs\u001b[0m\u001b[0;31m`\u001b[0m\u001b[0;31m`\u001b[0m\u001b[0;34m.\u001b[0m\u001b[0;34m\u001b[0m\u001b[0;34m\u001b[0m\u001b[0m\n\u001b[1;32m   1416\u001b[0m         \"\"\"\n\u001b[0;32m-> 1417\u001b[0;31m         \u001b[0mself\u001b[0m\u001b[0;34m.\u001b[0m\u001b[0m_set_parameters\u001b[0m\u001b[0;34m(\u001b[0m\u001b[0;34m*\u001b[0m\u001b[0margs\u001b[0m\u001b[0;34m,\u001b[0m \u001b[0m__update\u001b[0m\u001b[0;34m=\u001b[0m\u001b[0;32mTrue\u001b[0m\u001b[0;34m,\u001b[0m \u001b[0;34m**\u001b[0m\u001b[0mkwargs\u001b[0m\u001b[0;34m)\u001b[0m\u001b[0;34m\u001b[0m\u001b[0;34m\u001b[0m\u001b[0m\n\u001b[0m\u001b[1;32m   1418\u001b[0m \u001b[0;34m\u001b[0m\u001b[0m\n\u001b[1;32m   1419\u001b[0m     \u001b[0;32mdef\u001b[0m \u001b[0mset_model_label_enumeration\u001b[0m\u001b[0;34m(\u001b[0m\u001b[0mself\u001b[0m\u001b[0;34m,\u001b[0m \u001b[0menumeration\u001b[0m\u001b[0;34m=\u001b[0m\u001b[0;32mNone\u001b[0m\u001b[0;34m)\u001b[0m\u001b[0;34m:\u001b[0m\u001b[0;34m\u001b[0m\u001b[0;34m\u001b[0m\u001b[0m\n",
            "\u001b[0;32m/usr/local/lib/python3.11/dist-packages/clearml/backend_interface/task/task.py\u001b[0m in \u001b[0;36m_set_parameters\u001b[0;34m(self, *args, **kwargs)\u001b[0m\n\u001b[1;32m   1325\u001b[0m                     \u001b[0mhyperparams\u001b[0m\u001b[0;34m[\u001b[0m\u001b[0msection_name\u001b[0m\u001b[0;34m]\u001b[0m \u001b[0;34m=\u001b[0m \u001b[0msection\u001b[0m\u001b[0;34m\u001b[0m\u001b[0;34m\u001b[0m\u001b[0m\n\u001b[1;32m   1326\u001b[0m \u001b[0;34m\u001b[0m\u001b[0m\n\u001b[0;32m-> 1327\u001b[0;31m                 \u001b[0mself\u001b[0m\u001b[0;34m.\u001b[0m\u001b[0m_edit\u001b[0m\u001b[0;34m(\u001b[0m\u001b[0mhyperparams\u001b[0m\u001b[0;34m=\u001b[0m\u001b[0mhyperparams\u001b[0m\u001b[0;34m)\u001b[0m\u001b[0;34m\u001b[0m\u001b[0;34m\u001b[0m\u001b[0m\n\u001b[0m\u001b[1;32m   1328\u001b[0m                 \u001b[0mself\u001b[0m\u001b[0;34m.\u001b[0m\u001b[0mdata\u001b[0m\u001b[0;34m.\u001b[0m\u001b[0mhyperparams\u001b[0m \u001b[0;34m=\u001b[0m \u001b[0mhyperparams\u001b[0m\u001b[0;34m\u001b[0m\u001b[0;34m\u001b[0m\u001b[0m\n\u001b[1;32m   1329\u001b[0m             \u001b[0;32melse\u001b[0m\u001b[0;34m:\u001b[0m\u001b[0;34m\u001b[0m\u001b[0;34m\u001b[0m\u001b[0m\n",
            "\u001b[0;32m/usr/local/lib/python3.11/dist-packages/clearml/backend_interface/task/task.py\u001b[0m in \u001b[0;36m_edit\u001b[0;34m(self, **kwargs)\u001b[0m\n\u001b[1;32m   2576\u001b[0m                     \u001b[0;32mpass\u001b[0m\u001b[0;34m\u001b[0m\u001b[0;34m\u001b[0m\u001b[0m\n\u001b[1;32m   2577\u001b[0m                 \u001b[0;32melse\u001b[0m\u001b[0;34m:\u001b[0m\u001b[0;34m\u001b[0m\u001b[0;34m\u001b[0m\u001b[0m\n\u001b[0;32m-> 2578\u001b[0;31m                     raise ValueError(\n\u001b[0m\u001b[1;32m   2579\u001b[0m                         \u001b[0;34m\"Task object can only be updated if created or in_progress \"\u001b[0m\u001b[0;34m\u001b[0m\u001b[0;34m\u001b[0m\u001b[0m\n\u001b[1;32m   2580\u001b[0m                         \u001b[0;34m\"[status={} fields={}]\"\u001b[0m\u001b[0;34m.\u001b[0m\u001b[0mformat\u001b[0m\u001b[0;34m(\u001b[0m\u001b[0mstatus\u001b[0m\u001b[0;34m,\u001b[0m \u001b[0mlist\u001b[0m\u001b[0;34m(\u001b[0m\u001b[0mkwargs\u001b[0m\u001b[0;34m.\u001b[0m\u001b[0mkeys\u001b[0m\u001b[0;34m(\u001b[0m\u001b[0;34m)\u001b[0m\u001b[0;34m)\u001b[0m\u001b[0;34m)\u001b[0m\u001b[0;34m\u001b[0m\u001b[0;34m\u001b[0m\u001b[0m\n",
            "\u001b[0;31mValueError\u001b[0m: Task object can only be updated if created or in_progress [status=stopped fields=['hyperparams']]"
          ]
        }
      ]
    },
    {
      "cell_type": "code",
      "source": [
        "task.close()"
      ],
      "metadata": {
        "colab": {
          "base_uri": "https://localhost:8080/",
          "height": 304
        },
        "id": "urdRJSK9C3R4",
        "outputId": "888f337d-3f7f-43aa-857d-3fc6073e6fe4"
      },
      "execution_count": null,
      "outputs": [
        {
          "output_type": "error",
          "ename": "KeyboardInterrupt",
          "evalue": "",
          "traceback": [
            "\u001b[0;31m---------------------------------------------------------------------------\u001b[0m",
            "\u001b[0;31mKeyboardInterrupt\u001b[0m                         Traceback (most recent call last)",
            "\u001b[0;32m<ipython-input-11-4b720225f4c6>\u001b[0m in \u001b[0;36m<cell line: 0>\u001b[0;34m()\u001b[0m\n\u001b[0;32m----> 1\u001b[0;31m \u001b[0mtask\u001b[0m\u001b[0;34m.\u001b[0m\u001b[0mclose\u001b[0m\u001b[0;34m(\u001b[0m\u001b[0;34m)\u001b[0m\u001b[0;34m\u001b[0m\u001b[0;34m\u001b[0m\u001b[0m\n\u001b[0m",
            "\u001b[0;32m/usr/local/lib/python3.11/dist-packages/clearml/task.py\u001b[0m in \u001b[0;36mclose\u001b[0;34m(self)\u001b[0m\n\u001b[1;32m   2542\u001b[0m             \u001b[0mself\u001b[0m\u001b[0;34m.\u001b[0m\u001b[0m_wait_for_repo_detection\u001b[0m\u001b[0;34m(\u001b[0m\u001b[0mtimeout\u001b[0m\u001b[0;34m=\u001b[0m\u001b[0;36m300.\u001b[0m\u001b[0;34m)\u001b[0m\u001b[0;34m\u001b[0m\u001b[0;34m\u001b[0m\u001b[0m\n\u001b[1;32m   2543\u001b[0m \u001b[0;34m\u001b[0m\u001b[0m\n\u001b[0;32m-> 2544\u001b[0;31m         \u001b[0mself\u001b[0m\u001b[0;34m.\u001b[0m\u001b[0m__shutdown\u001b[0m\u001b[0;34m(\u001b[0m\u001b[0;34m)\u001b[0m\u001b[0;34m\u001b[0m\u001b[0;34m\u001b[0m\u001b[0m\n\u001b[0m\u001b[1;32m   2545\u001b[0m         \u001b[0;31m# unregister atexit callbacks and signal hooks, if we are the main task\u001b[0m\u001b[0;34m\u001b[0m\u001b[0;34m\u001b[0m\u001b[0m\n\u001b[1;32m   2546\u001b[0m         \u001b[0;32mif\u001b[0m \u001b[0mis_main\u001b[0m\u001b[0;34m:\u001b[0m\u001b[0;34m\u001b[0m\u001b[0;34m\u001b[0m\u001b[0m\n",
            "\u001b[0;32m/usr/local/lib/python3.11/dist-packages/clearml/task.py\u001b[0m in \u001b[0;36m__shutdown\u001b[0;34m(self)\u001b[0m\n\u001b[1;32m   4702\u001b[0m                         \u001b[0mMetrics\u001b[0m\u001b[0;34m.\u001b[0m\u001b[0mclose_async_threads\u001b[0m\u001b[0;34m(\u001b[0m\u001b[0;34m)\u001b[0m\u001b[0;34m\u001b[0m\u001b[0;34m\u001b[0m\u001b[0m\n\u001b[1;32m   4703\u001b[0m                         \u001b[0;31m# notice: this will close the jupyter monitoring\u001b[0m\u001b[0;34m\u001b[0m\u001b[0;34m\u001b[0m\u001b[0m\n\u001b[0;32m-> 4704\u001b[0;31m                         \u001b[0mScriptInfo\u001b[0m\u001b[0;34m.\u001b[0m\u001b[0mclose\u001b[0m\u001b[0;34m(\u001b[0m\u001b[0;34m)\u001b[0m\u001b[0;34m\u001b[0m\u001b[0;34m\u001b[0m\u001b[0m\n\u001b[0m\u001b[1;32m   4705\u001b[0m                 \u001b[0;32mif\u001b[0m \u001b[0mself\u001b[0m\u001b[0;34m.\u001b[0m\u001b[0mis_main_task\u001b[0m\u001b[0;34m(\u001b[0m\u001b[0;34m)\u001b[0m\u001b[0;34m:\u001b[0m\u001b[0;34m\u001b[0m\u001b[0;34m\u001b[0m\u001b[0m\n\u001b[1;32m   4706\u001b[0m                     \u001b[0;31m# noinspection PyBroadException\u001b[0m\u001b[0;34m\u001b[0m\u001b[0;34m\u001b[0m\u001b[0m\n",
            "\u001b[0;32m/usr/local/lib/python3.11/dist-packages/clearml/backend_interface/task/repo/scriptinfo.py\u001b[0m in \u001b[0;36mclose\u001b[0;34m(cls)\u001b[0m\n\u001b[1;32m   1423\u001b[0m     \u001b[0;34m@\u001b[0m\u001b[0mclassmethod\u001b[0m\u001b[0;34m\u001b[0m\u001b[0;34m\u001b[0m\u001b[0m\n\u001b[1;32m   1424\u001b[0m     \u001b[0;32mdef\u001b[0m \u001b[0mclose\u001b[0m\u001b[0;34m(\u001b[0m\u001b[0mcls\u001b[0m\u001b[0;34m)\u001b[0m\u001b[0;34m:\u001b[0m\u001b[0;34m\u001b[0m\u001b[0;34m\u001b[0m\u001b[0m\n\u001b[0;32m-> 1425\u001b[0;31m         \u001b[0m_JupyterObserver\u001b[0m\u001b[0;34m.\u001b[0m\u001b[0mclose\u001b[0m\u001b[0;34m(\u001b[0m\u001b[0;34m)\u001b[0m\u001b[0;34m\u001b[0m\u001b[0;34m\u001b[0m\u001b[0m\n\u001b[0m\u001b[1;32m   1426\u001b[0m \u001b[0;34m\u001b[0m\u001b[0m\n\u001b[1;32m   1427\u001b[0m \u001b[0;34m\u001b[0m\u001b[0m\n",
            "\u001b[0;32m/usr/local/lib/python3.11/dist-packages/clearml/backend_interface/task/repo/scriptinfo.py\u001b[0m in \u001b[0;36mclose\u001b[0;34m(cls)\u001b[0m\n\u001b[1;32m    339\u001b[0m         \u001b[0mcls\u001b[0m\u001b[0;34m.\u001b[0m\u001b[0m_exit_event\u001b[0m\u001b[0;34m.\u001b[0m\u001b[0mset\u001b[0m\u001b[0;34m(\u001b[0m\u001b[0;34m)\u001b[0m\u001b[0;34m\u001b[0m\u001b[0;34m\u001b[0m\u001b[0m\n\u001b[1;32m    340\u001b[0m         \u001b[0mcls\u001b[0m\u001b[0;34m.\u001b[0m\u001b[0m_sync_event\u001b[0m\u001b[0;34m.\u001b[0m\u001b[0mset\u001b[0m\u001b[0;34m(\u001b[0m\u001b[0;34m)\u001b[0m\u001b[0;34m\u001b[0m\u001b[0;34m\u001b[0m\u001b[0m\n\u001b[0;32m--> 341\u001b[0;31m         \u001b[0mcls\u001b[0m\u001b[0;34m.\u001b[0m\u001b[0m_thread\u001b[0m\u001b[0;34m.\u001b[0m\u001b[0mjoin\u001b[0m\u001b[0;34m(\u001b[0m\u001b[0;34m)\u001b[0m\u001b[0;34m\u001b[0m\u001b[0;34m\u001b[0m\u001b[0m\n\u001b[0m\u001b[1;32m    342\u001b[0m         \u001b[0mcls\u001b[0m\u001b[0;34m.\u001b[0m\u001b[0m_thread\u001b[0m \u001b[0;34m=\u001b[0m \u001b[0;32mNone\u001b[0m\u001b[0;34m\u001b[0m\u001b[0;34m\u001b[0m\u001b[0m\n\u001b[1;32m    343\u001b[0m \u001b[0;34m\u001b[0m\u001b[0m\n",
            "\u001b[0;32m/usr/lib/python3.11/threading.py\u001b[0m in \u001b[0;36mjoin\u001b[0;34m(self, timeout)\u001b[0m\n\u001b[1;32m   1117\u001b[0m \u001b[0;34m\u001b[0m\u001b[0m\n\u001b[1;32m   1118\u001b[0m         \u001b[0;32mif\u001b[0m \u001b[0mtimeout\u001b[0m \u001b[0;32mis\u001b[0m \u001b[0;32mNone\u001b[0m\u001b[0;34m:\u001b[0m\u001b[0;34m\u001b[0m\u001b[0;34m\u001b[0m\u001b[0m\n\u001b[0;32m-> 1119\u001b[0;31m             \u001b[0mself\u001b[0m\u001b[0;34m.\u001b[0m\u001b[0m_wait_for_tstate_lock\u001b[0m\u001b[0;34m(\u001b[0m\u001b[0;34m)\u001b[0m\u001b[0;34m\u001b[0m\u001b[0;34m\u001b[0m\u001b[0m\n\u001b[0m\u001b[1;32m   1120\u001b[0m         \u001b[0;32melse\u001b[0m\u001b[0;34m:\u001b[0m\u001b[0;34m\u001b[0m\u001b[0;34m\u001b[0m\u001b[0m\n\u001b[1;32m   1121\u001b[0m             \u001b[0;31m# the behavior of a negative timeout isn't documented, but\u001b[0m\u001b[0;34m\u001b[0m\u001b[0;34m\u001b[0m\u001b[0m\n",
            "\u001b[0;32m/usr/lib/python3.11/threading.py\u001b[0m in \u001b[0;36m_wait_for_tstate_lock\u001b[0;34m(self, block, timeout)\u001b[0m\n\u001b[1;32m   1137\u001b[0m \u001b[0;34m\u001b[0m\u001b[0m\n\u001b[1;32m   1138\u001b[0m         \u001b[0;32mtry\u001b[0m\u001b[0;34m:\u001b[0m\u001b[0;34m\u001b[0m\u001b[0;34m\u001b[0m\u001b[0m\n\u001b[0;32m-> 1139\u001b[0;31m             \u001b[0;32mif\u001b[0m \u001b[0mlock\u001b[0m\u001b[0;34m.\u001b[0m\u001b[0macquire\u001b[0m\u001b[0;34m(\u001b[0m\u001b[0mblock\u001b[0m\u001b[0;34m,\u001b[0m \u001b[0mtimeout\u001b[0m\u001b[0;34m)\u001b[0m\u001b[0;34m:\u001b[0m\u001b[0;34m\u001b[0m\u001b[0;34m\u001b[0m\u001b[0m\n\u001b[0m\u001b[1;32m   1140\u001b[0m                 \u001b[0mlock\u001b[0m\u001b[0;34m.\u001b[0m\u001b[0mrelease\u001b[0m\u001b[0;34m(\u001b[0m\u001b[0;34m)\u001b[0m\u001b[0;34m\u001b[0m\u001b[0;34m\u001b[0m\u001b[0m\n\u001b[1;32m   1141\u001b[0m                 \u001b[0mself\u001b[0m\u001b[0;34m.\u001b[0m\u001b[0m_stop\u001b[0m\u001b[0;34m(\u001b[0m\u001b[0;34m)\u001b[0m\u001b[0;34m\u001b[0m\u001b[0;34m\u001b[0m\u001b[0m\n",
            "\u001b[0;31mKeyboardInterrupt\u001b[0m: "
          ]
        }
      ]
    },
    {
      "cell_type": "code",
      "source": [
        "!pip install clearml-agent"
      ],
      "metadata": {
        "colab": {
          "base_uri": "https://localhost:8080/"
        },
        "id": "vPCnAk6NDxNm",
        "outputId": "5d70b590-3287-4816-c223-ca126dde4fd1"
      },
      "execution_count": 15,
      "outputs": [
        {
          "output_type": "stream",
          "name": "stdout",
          "text": [
            "Requirement already satisfied: clearml-agent in /usr/local/lib/python3.11/dist-packages (1.9.3)\n",
            "Requirement already satisfied: attrs<24.0.0,>=18.0 in /usr/local/lib/python3.11/dist-packages (from clearml-agent) (23.2.0)\n",
            "Requirement already satisfied: furl<2.2.0,>=2.0.0 in /usr/local/lib/python3.11/dist-packages (from clearml-agent) (2.1.4)\n",
            "Requirement already satisfied: jsonschema<5.0.0,>=2.6.0 in /usr/local/lib/python3.11/dist-packages (from clearml-agent) (4.23.0)\n",
            "Requirement already satisfied: pathlib2<2.4.0,>=2.3.0 in /usr/local/lib/python3.11/dist-packages (from clearml-agent) (2.3.7.post1)\n",
            "Requirement already satisfied: psutil<5.10.0,>=3.4.2 in /usr/local/lib/python3.11/dist-packages (from clearml-agent) (5.9.5)\n",
            "Requirement already satisfied: pyparsing<3.2.0,>=2.0.3 in /usr/local/lib/python3.11/dist-packages (from clearml-agent) (3.1.4)\n",
            "Requirement already satisfied: python-dateutil<2.9.0,>=2.4.2 in /usr/local/lib/python3.11/dist-packages (from clearml-agent) (2.8.2)\n",
            "Requirement already satisfied: pyjwt<2.9.0,>=2.4.0 in /usr/local/lib/python3.11/dist-packages (from clearml-agent) (2.8.0)\n",
            "Requirement already satisfied: PyYAML<6.1,>=3.12 in /usr/local/lib/python3.11/dist-packages (from clearml-agent) (6.0.2)\n",
            "Requirement already satisfied: requests<=2.31.0,>=2.20.0 in /usr/local/lib/python3.11/dist-packages (from clearml-agent) (2.31.0)\n",
            "Requirement already satisfied: six<1.17.0,>=1.13.0 in /usr/local/lib/python3.11/dist-packages (from clearml-agent) (1.16.0)\n",
            "Requirement already satisfied: urllib3<2,>=1.21.1 in /usr/local/lib/python3.11/dist-packages (from clearml-agent) (1.26.20)\n",
            "Requirement already satisfied: virtualenv<21,>=16 in /usr/local/lib/python3.11/dist-packages (from clearml-agent) (20.30.0)\n",
            "Requirement already satisfied: orderedmultidict>=1.0.1 in /usr/local/lib/python3.11/dist-packages (from furl<2.2.0,>=2.0.0->clearml-agent) (1.0.1)\n",
            "Requirement already satisfied: jsonschema-specifications>=2023.03.6 in /usr/local/lib/python3.11/dist-packages (from jsonschema<5.0.0,>=2.6.0->clearml-agent) (2025.4.1)\n",
            "Requirement already satisfied: referencing>=0.28.4 in /usr/local/lib/python3.11/dist-packages (from jsonschema<5.0.0,>=2.6.0->clearml-agent) (0.36.2)\n",
            "Requirement already satisfied: rpds-py>=0.7.1 in /usr/local/lib/python3.11/dist-packages (from jsonschema<5.0.0,>=2.6.0->clearml-agent) (0.24.0)\n",
            "Requirement already satisfied: charset-normalizer<4,>=2 in /usr/local/lib/python3.11/dist-packages (from requests<=2.31.0,>=2.20.0->clearml-agent) (3.4.1)\n",
            "Requirement already satisfied: idna<4,>=2.5 in /usr/local/lib/python3.11/dist-packages (from requests<=2.31.0,>=2.20.0->clearml-agent) (3.10)\n",
            "Requirement already satisfied: certifi>=2017.4.17 in /usr/local/lib/python3.11/dist-packages (from requests<=2.31.0,>=2.20.0->clearml-agent) (2025.1.31)\n",
            "Requirement already satisfied: distlib<1,>=0.3.7 in /usr/local/lib/python3.11/dist-packages (from virtualenv<21,>=16->clearml-agent) (0.3.9)\n",
            "Requirement already satisfied: filelock<4,>=3.12.2 in /usr/local/lib/python3.11/dist-packages (from virtualenv<21,>=16->clearml-agent) (3.18.0)\n",
            "Requirement already satisfied: platformdirs<5,>=3.9.1 in /usr/local/lib/python3.11/dist-packages (from virtualenv<21,>=16->clearml-agent) (4.3.7)\n",
            "Requirement already satisfied: typing-extensions>=4.4.0 in /usr/local/lib/python3.11/dist-packages (from referencing>=0.28.4->jsonschema<5.0.0,>=2.6.0->clearml-agent) (4.13.2)\n"
          ]
        }
      ]
    },
    {
      "cell_type": "code",
      "source": [
        "!clearml-agent init"
      ],
      "metadata": {
        "colab": {
          "base_uri": "https://localhost:8080/"
        },
        "id": "AgQVFneuD-F5",
        "outputId": "cb5e62a7-b3c1-4157-cdda-dea049372e7e"
      },
      "execution_count": 16,
      "outputs": [
        {
          "output_type": "stream",
          "name": "stdout",
          "text": [
            "CLEARML-AGENT setup process\n",
            "Configuration file already exists: /root/clearml.conf\n",
            "Leaving setup. If you've previously initialized the ClearML SDK on this machine, manually add an 'agent' section to this file.\n"
          ]
        }
      ]
    },
    {
      "cell_type": "code",
      "source": [
        "!pkill -f clearml-agent"
      ],
      "metadata": {
        "id": "iiQeOBleJHc5"
      },
      "execution_count": 17,
      "outputs": []
    },
    {
      "cell_type": "code",
      "source": [
        "# pipe.start(queue=\"vgg16\")\n",
        "!clearml-agent daemon --queue vgg16 --detached"
      ],
      "metadata": {
        "colab": {
          "base_uri": "https://localhost:8080/",
          "height": 1000
        },
        "id": "2NDl8lalCgSH",
        "outputId": "dd1c5114-34ce-4ce4-8192-1f7027fd2078"
      },
      "execution_count": 18,
      "outputs": [
        {
          "output_type": "stream",
          "name": "stdout",
          "text": [
            "Using environment access key CLEARML_API_ACCESS_KEY=Q9JQUW7NG3L7UIGUQ99CH6APXN7CWX\n",
            "Using environment secret key CLEARML_API_SECRET_KEY=********\n",
            "Current configuration (clearml_agent v1.9.3, location: /root/clearml.conf):\n",
            "----------------------\n",
            "sdk.storage.cache.default_base_dir = ~/.clearml/cache\n",
            "sdk.storage.cache.size.min_free_bytes = 10GB\n",
            "sdk.storage.direct_access.0.url = file://*\n",
            "sdk.metrics.file_history_size = 100\n",
            "sdk.metrics.matplotlib_untitled_history_size = 100\n",
            "sdk.metrics.images.format = JPEG\n",
            "sdk.metrics.images.quality = 87\n",
            "sdk.metrics.images.subsampling = 0\n",
            "sdk.metrics.tensorboard_single_series_per_graph = false\n",
            "sdk.network.metrics.file_upload_threads = 4\n",
            "sdk.network.metrics.file_upload_starvation_warning_sec = 120\n",
            "sdk.network.iteration.max_retries_on_server_error = 5\n",
            "sdk.network.iteration.retry_backoff_factor_sec = 10\n",
            "sdk.network.file_upload_retries = 3\n",
            "sdk.aws.s3.key = \n",
            "sdk.aws.s3.secret = ****\n",
            "sdk.aws.s3.region = \n",
            "sdk.aws.s3.use_credentials_chain = false\n",
            "sdk.aws.boto3.pool_connections = 512\n",
            "sdk.aws.boto3.max_multipart_concurrency = 16\n",
            "sdk.aws.boto3.multipart_threshold = 8388608\n",
            "sdk.aws.boto3.multipart_chunksize = 8388608\n",
            "sdk.log.null_log_propagate = false\n",
            "sdk.log.task_log_buffer_capacity = 66\n",
            "sdk.log.disable_urllib3_info = true\n",
            "sdk.development.task_reuse_time_window_in_hours = 72.0\n",
            "sdk.development.vcs_repo_detect_async = true\n",
            "sdk.development.store_uncommitted_code_diff = true\n",
            "sdk.development.support_stopping = true\n",
            "sdk.development.default_output_uri = \n",
            "sdk.development.force_analyze_entire_repo = false\n",
            "sdk.development.suppress_update_message = false\n",
            "sdk.development.detect_with_pip_freeze = false\n",
            "sdk.development.worker.report_period_sec = 2\n",
            "sdk.development.worker.ping_period_sec = 30\n",
            "sdk.development.worker.log_stdout = true\n",
            "sdk.development.worker.report_global_mem_used = false\n",
            "sdk.development.worker.report_event_flush_threshold = 100\n",
            "sdk.development.worker.console_cr_flush_period = 10\n",
            "sdk.development.artifacts.auto_pickle = true\n",
            "sdk.apply_environment = false\n",
            "sdk.apply_files = false\n",
            "agent.worker_id = \n",
            "agent.worker_name = 0b97f7eef3c1\n",
            "agent.force_git_ssh_protocol = false\n",
            "agent.python_binary = \n",
            "agent.package_manager.type = pip\n",
            "agent.package_manager.pip_version.0 = <20.2 ; python_version < '3.10'\n",
            "agent.package_manager.pip_version.1 = <22.3 ; python_version >\\= '3.10' and python_version <\\= '3.11'\n",
            "agent.package_manager.pip_version.2 = >\\=23,<24.3 ; python_version >\\= '3.12'\n",
            "agent.package_manager.system_site_packages = false\n",
            "agent.package_manager.force_upgrade = false\n",
            "agent.package_manager.pip_legacy_resolver.0 = >\\=20.3,<24.3\n",
            "agent.package_manager.conda_channels.0 = pytorch\n",
            "agent.package_manager.conda_channels.1 = conda-forge\n",
            "agent.package_manager.conda_channels.2 = nvidia\n",
            "agent.package_manager.conda_channels.3 = defaults\n",
            "agent.package_manager.priority_optional_packages.0 = pygobject\n",
            "agent.package_manager.torch_nightly = false\n",
            "agent.package_manager.poetry_files_from_repo_working_dir = false\n",
            "agent.package_manager.uv_files_from_repo_working_dir = false\n",
            "agent.venvs_dir = /root/.clearml/venvs-builds\n",
            "agent.venvs_cache.max_entries = 10\n",
            "agent.venvs_cache.free_space_threshold_gb = 2.0\n",
            "agent.venvs_cache.path = ~/.clearml/venvs-cache\n",
            "agent.vcs_cache.enabled = true\n",
            "agent.vcs_cache.path = /root/.clearml/vcs-cache\n",
            "agent.venv_update.enabled = false\n",
            "agent.pip_download_cache.enabled = true\n",
            "agent.pip_download_cache.path = /root/.clearml/pip-download-cache\n",
            "agent.translate_ssh = true\n",
            "agent.reload_config = false\n",
            "agent.docker_pip_cache = /root/.clearml/pip-cache\n",
            "agent.docker_apt_cache = /root/.clearml/apt-cache\n",
            "agent.docker_force_pull = false\n",
            "agent.default_docker.image = nvidia/cuda:11.0.3-cudnn8-runtime-ubuntu20.04\n",
            "agent.default_docker.match_rules.0.image = python:3.6-bullseye\n",
            "agent.default_docker.match_rules.0.arguments = --ipc\\=host\n",
            "agent.default_docker.match_rules.0.match.script.binary = python3.6$\n",
            "agent.default_docker.match_rules.1.image = python:3.7-bullseye\n",
            "agent.default_docker.match_rules.1.arguments = --ipc\\=host\n",
            "agent.default_docker.match_rules.1.match.script.binary = python3.7$\n",
            "agent.default_docker.match_rules.2.image = python:3.8-bullseye\n",
            "agent.default_docker.match_rules.2.arguments = --ipc\\=host\n",
            "agent.default_docker.match_rules.2.match.script.binary = python3.8$\n",
            "agent.default_docker.match_rules.3.image = python:3.9-bullseye\n",
            "agent.default_docker.match_rules.3.arguments = --ipc\\=host\n",
            "agent.default_docker.match_rules.3.match.script.binary = python3.9$\n",
            "agent.default_docker.match_rules.4.image = python:3.10-bullseye\n",
            "agent.default_docker.match_rules.4.arguments = --ipc\\=host\n",
            "agent.default_docker.match_rules.4.match.script.binary = python3.10$\n",
            "agent.default_docker.match_rules.5.image = python:3.11-bullseye\n",
            "agent.default_docker.match_rules.5.arguments = --ipc\\=host\n",
            "agent.default_docker.match_rules.5.match.script.binary = python3.11$\n",
            "agent.default_docker.match_rules.6.image = python:3.12-bullseye\n",
            "agent.default_docker.match_rules.6.arguments = --ipc\\=host\n",
            "agent.default_docker.match_rules.6.match.script.binary = python3.12$\n",
            "agent.enable_task_env = false\n",
            "agent.sanitize_config_printout = ****\n",
            "agent.hide_docker_command_env_vars.enabled = true\n",
            "agent.hide_docker_command_env_vars.parse_embedded_urls = true\n",
            "agent.abort_callback_max_timeout = 1800\n",
            "agent.docker_internal_mounts.sdk_cache = /clearml_agent_cache\n",
            "agent.docker_internal_mounts.apt_cache = /var/cache/apt/archives\n",
            "agent.docker_internal_mounts.ssh_folder = ~/.ssh\n",
            "agent.docker_internal_mounts.ssh_ro_folder = /.ssh\n",
            "agent.docker_internal_mounts.pip_cache = /root/.cache/pip\n",
            "agent.docker_internal_mounts.poetry_cache = /root/.cache/pypoetry\n",
            "agent.docker_internal_mounts.vcs_cache = /root/.clearml/vcs-cache\n",
            "agent.docker_internal_mounts.venvs_cache = /root/.clearml/venvs-cache\n",
            "agent.docker_internal_mounts.venv_build = ~/.clearml/venvs-builds\n",
            "agent.docker_internal_mounts.pip_download = /root/.clearml/pip-download-cache\n",
            "agent.apply_environment = true\n",
            "agent.apply_files = true\n",
            "agent.custom_build_script = \n",
            "agent.disable_task_docker_override = false\n",
            "agent.default_python = 3.11\n",
            "agent.cuda_version = 125\n",
            "agent.cudnn_version = 0\n",
            "api.version = 1.5\n",
            "api.verify_certificate = true\n",
            "api.default_version = 1.5\n",
            "api.http.max_req_size = 15728640\n",
            "api.http.retries.total = 240\n",
            "api.http.retries.connect = 240\n",
            "api.http.retries.read = 240\n",
            "api.http.retries.redirect = 240\n",
            "api.http.retries.status = 240\n",
            "api.http.retries.backoff_factor = 1.0\n",
            "api.http.retries.backoff_max = 120.0\n",
            "api.http.wait_on_maintenance_forever = true\n",
            "api.http.pool_maxsize = 512\n",
            "api.http.pool_connections = 512\n",
            "api.auth.token_expiration_threshold_sec = ****\n",
            "api.api_server = https://api.clear.ml\n",
            "api.web_server = https://app.clear.ml\n",
            "api.files_server = https://files.clear.ml\n",
            "api.credentials.access_key = Q9JQUW7NG3L7UIGUQ99CH6APXN7CWX\n",
            "api.credentials.secret_key = ****\n",
            "api.host = https://api.clear.ml\n",
            "\n",
            "Worker \"0b97f7eef3c1:gpuall\" - Listening to queues:\n",
            "+----------------------------------+-------+-------+\n",
            "| id                               | name  | tags  |\n",
            "+----------------------------------+-------+-------+\n",
            "| 5fdcd232e52e45b6bf8d5867d461858a | vgg16 |       |\n",
            "+----------------------------------+-------+-------+\n",
            "\n",
            "Running CLEARML-AGENT daemon in background mode, writing stdout/stderr to /tmp/.clearml_agent_daemon_out1kygo6mn.txt\n"
          ]
        },
        {
          "output_type": "stream",
          "name": "stderr",
          "text": [
            "Action failed <400/110: tasks.add_or_update_artifacts/v2.10 (Invalid task status: expected=created, status=stopped)> (task=85eabaadfd7441a3b94c5c841a16794e, artifacts=[{'key': 'best_model', 'type': 'custom', 'uri': 'https://files.clear.ml/VGG16/Pipeline%20Step%203%20-%20Train%20Pneumonia%20Model.85eabaadfd7441a3b94c5c841a16794e/artifacts/best_model/best_model.keras', 'content_size': 143603355, 'hash': '4b1f80a83f0ced8ecbea6d3796b17affa5728f1068b71096291113c0fb9112bb', 'timestamp': 1745924093, 'type_data': {'preview': 'best_model.keras - 143.6 MB\\n'}}, {'key': 'notebook preview', 'type': 'custom', 'uri': 'https://files.clear.ml/VGG16/Pipeline%20Step%203%20-%20Train%20Pneumonia%20Model.85eabaadfd7441a3b94c5c841a16794e/artifacts/notebook%20preview/notebook_85eabaadfd7441a3b94c5c841a16794e.html', 'content_size': 334727, 'hash': '1b65b73704bb86c96fb6e77a5322fb5173a0acb0426b081cc150146a1bf54278', 'timestamp': 1745930331, 'type_data': {'preview': 'Click `FILE PATH` link', 'content_type': 'text/html'}, 'display_data': [('UPDATE', '2025-04-29 12:38:50')]}, {'key': 'notebook', 'type': 'custom', 'uri': 'https://files.clear.ml/VGG16/Pipeline%20Step%203%20-%20Train%20Pneumonia%20Model.85eabaadfd7441a3b94c5c841a16794e/artifacts/notebook/colab.ipynb', 'content_size': 40355, 'hash': '1daf7abd7bf12fea4089c844697fffc6a712d2b2937077d906dbdbb08c4eebdc', 'timestamp': 1745930455, 'type_data': {'preview': 'See `notebook preview` artifact'}, 'display_data': [('UPDATE', '2025-04-29 12:40:54')]}], force=True)\n",
            "Action failed <400/110: tasks.add_or_update_artifacts/v2.10 (Invalid task status: expected=created, status=stopped)> (task=85eabaadfd7441a3b94c5c841a16794e, artifacts=[{'key': 'best_model', 'type': 'custom', 'uri': 'https://files.clear.ml/VGG16/Pipeline%20Step%203%20-%20Train%20Pneumonia%20Model.85eabaadfd7441a3b94c5c841a16794e/artifacts/best_model/best_model.keras', 'content_size': 143603355, 'hash': '4b1f80a83f0ced8ecbea6d3796b17affa5728f1068b71096291113c0fb9112bb', 'timestamp': 1745924093, 'type_data': {'preview': 'best_model.keras - 143.6 MB\\n'}}, {'key': 'notebook', 'type': 'custom', 'uri': 'https://files.clear.ml/VGG16/Pipeline%20Step%203%20-%20Train%20Pneumonia%20Model.85eabaadfd7441a3b94c5c841a16794e/artifacts/notebook/colab.ipynb', 'content_size': 40355, 'hash': '1daf7abd7bf12fea4089c844697fffc6a712d2b2937077d906dbdbb08c4eebdc', 'timestamp': 1745930455, 'type_data': {'preview': 'See `notebook preview` artifact'}, 'display_data': [('UPDATE', '2025-04-29 12:40:54')]}, {'key': 'notebook preview', 'type': 'custom', 'uri': 'https://files.clear.ml/VGG16/Pipeline%20Step%203%20-%20Train%20Pneumonia%20Model.85eabaadfd7441a3b94c5c841a16794e/artifacts/notebook%20preview/notebook_85eabaadfd7441a3b94c5c841a16794e.html', 'content_size': 327471, 'hash': 'c6b71db54199ee7bda98be9faf6e9272054f00843e90ccd62c1e6d8ea6eb2ee8', 'timestamp': 1745930457, 'type_data': {'preview': 'Click `FILE PATH` link', 'content_type': 'text/html'}, 'display_data': [('UPDATE', '2025-04-29 12:40:56')]}], force=True)\n",
            "Action failed <400/110: tasks.add_or_update_artifacts/v2.10 (Invalid task status: expected=created, status=stopped)> (task=85eabaadfd7441a3b94c5c841a16794e, artifacts=[{'key': 'best_model', 'type': 'custom', 'uri': 'https://files.clear.ml/VGG16/Pipeline%20Step%203%20-%20Train%20Pneumonia%20Model.85eabaadfd7441a3b94c5c841a16794e/artifacts/best_model/best_model.keras', 'content_size': 143603355, 'hash': '4b1f80a83f0ced8ecbea6d3796b17affa5728f1068b71096291113c0fb9112bb', 'timestamp': 1745924093, 'type_data': {'preview': 'best_model.keras - 143.6 MB\\n'}}, {'key': 'notebook preview', 'type': 'custom', 'uri': 'https://files.clear.ml/VGG16/Pipeline%20Step%203%20-%20Train%20Pneumonia%20Model.85eabaadfd7441a3b94c5c841a16794e/artifacts/notebook%20preview/notebook_85eabaadfd7441a3b94c5c841a16794e.html', 'content_size': 327471, 'hash': 'c6b71db54199ee7bda98be9faf6e9272054f00843e90ccd62c1e6d8ea6eb2ee8', 'timestamp': 1745930457, 'type_data': {'preview': 'Click `FILE PATH` link', 'content_type': 'text/html'}, 'display_data': [('UPDATE', '2025-04-29 12:40:56')]}, {'key': 'notebook', 'type': 'custom', 'uri': 'https://files.clear.ml/VGG16/Pipeline%20Step%203%20-%20Train%20Pneumonia%20Model.85eabaadfd7441a3b94c5c841a16794e/artifacts/notebook/colab.ipynb', 'content_size': 43440, 'hash': 'f2208ce94ad414386edf477afbf01548108d58a9f84357469de0a3575cb8c62f', 'timestamp': 1745930490, 'type_data': {'preview': 'See `notebook preview` artifact'}, 'display_data': [('UPDATE', '2025-04-29 12:41:30')]}], force=True)\n",
            "Action failed <400/110: tasks.add_or_update_artifacts/v2.10 (Invalid task status: expected=created, status=stopped)> (task=85eabaadfd7441a3b94c5c841a16794e, artifacts=[{'key': 'best_model', 'type': 'custom', 'uri': 'https://files.clear.ml/VGG16/Pipeline%20Step%203%20-%20Train%20Pneumonia%20Model.85eabaadfd7441a3b94c5c841a16794e/artifacts/best_model/best_model.keras', 'content_size': 143603355, 'hash': '4b1f80a83f0ced8ecbea6d3796b17affa5728f1068b71096291113c0fb9112bb', 'timestamp': 1745924093, 'type_data': {'preview': 'best_model.keras - 143.6 MB\\n'}}, {'key': 'notebook', 'type': 'custom', 'uri': 'https://files.clear.ml/VGG16/Pipeline%20Step%203%20-%20Train%20Pneumonia%20Model.85eabaadfd7441a3b94c5c841a16794e/artifacts/notebook/colab.ipynb', 'content_size': 43440, 'hash': 'f2208ce94ad414386edf477afbf01548108d58a9f84357469de0a3575cb8c62f', 'timestamp': 1745930490, 'type_data': {'preview': 'See `notebook preview` artifact'}, 'display_data': [('UPDATE', '2025-04-29 12:41:30')]}, {'key': 'notebook preview', 'type': 'custom', 'uri': 'https://files.clear.ml/VGG16/Pipeline%20Step%203%20-%20Train%20Pneumonia%20Model.85eabaadfd7441a3b94c5c841a16794e/artifacts/notebook%20preview/notebook_85eabaadfd7441a3b94c5c841a16794e.html', 'content_size': 330730, 'hash': 'e42a53434fdb63a29c5e046d8b136696bba3f8ded3cded090a528cb404cb367b', 'timestamp': 1745930493, 'type_data': {'preview': 'Click `FILE PATH` link', 'content_type': 'text/html'}, 'display_data': [('UPDATE', '2025-04-29 12:41:32')]}], force=True)\n",
            "Action failed <400/110: tasks.add_or_update_artifacts/v2.10 (Invalid task status: expected=created, status=stopped)> (task=85eabaadfd7441a3b94c5c841a16794e, artifacts=[{'key': 'best_model', 'type': 'custom', 'uri': 'https://files.clear.ml/VGG16/Pipeline%20Step%203%20-%20Train%20Pneumonia%20Model.85eabaadfd7441a3b94c5c841a16794e/artifacts/best_model/best_model.keras', 'content_size': 143603355, 'hash': '4b1f80a83f0ced8ecbea6d3796b17affa5728f1068b71096291113c0fb9112bb', 'timestamp': 1745924093, 'type_data': {'preview': 'best_model.keras - 143.6 MB\\n'}}, {'key': 'notebook preview', 'type': 'custom', 'uri': 'https://files.clear.ml/VGG16/Pipeline%20Step%203%20-%20Train%20Pneumonia%20Model.85eabaadfd7441a3b94c5c841a16794e/artifacts/notebook%20preview/notebook_85eabaadfd7441a3b94c5c841a16794e.html', 'content_size': 330730, 'hash': 'e42a53434fdb63a29c5e046d8b136696bba3f8ded3cded090a528cb404cb367b', 'timestamp': 1745930493, 'type_data': {'preview': 'Click `FILE PATH` link', 'content_type': 'text/html'}, 'display_data': [('UPDATE', '2025-04-29 12:41:32')]}, {'key': 'notebook', 'type': 'custom', 'uri': 'https://files.clear.ml/VGG16/Pipeline%20Step%203%20-%20Train%20Pneumonia%20Model.85eabaadfd7441a3b94c5c841a16794e/artifacts/notebook/colab.ipynb', 'content_size': 46470, 'hash': 'c9f85d41ad05d3eabf4be654d72c990cdf6fe245137ec50b3e1fdadb29bb93ef', 'timestamp': 1745930525, 'type_data': {'preview': 'See `notebook preview` artifact'}, 'display_data': [('UPDATE', '2025-04-29 12:42:04')]}], force=True)\n",
            "Action failed <400/110: tasks.add_or_update_artifacts/v2.10 (Invalid task status: expected=created, status=stopped)> (task=85eabaadfd7441a3b94c5c841a16794e, artifacts=[{'key': 'best_model', 'type': 'custom', 'uri': 'https://files.clear.ml/VGG16/Pipeline%20Step%203%20-%20Train%20Pneumonia%20Model.85eabaadfd7441a3b94c5c841a16794e/artifacts/best_model/best_model.keras', 'content_size': 143603355, 'hash': '4b1f80a83f0ced8ecbea6d3796b17affa5728f1068b71096291113c0fb9112bb', 'timestamp': 1745924093, 'type_data': {'preview': 'best_model.keras - 143.6 MB\\n'}}, {'key': 'notebook', 'type': 'custom', 'uri': 'https://files.clear.ml/VGG16/Pipeline%20Step%203%20-%20Train%20Pneumonia%20Model.85eabaadfd7441a3b94c5c841a16794e/artifacts/notebook/colab.ipynb', 'content_size': 46470, 'hash': 'c9f85d41ad05d3eabf4be654d72c990cdf6fe245137ec50b3e1fdadb29bb93ef', 'timestamp': 1745930525, 'type_data': {'preview': 'See `notebook preview` artifact'}, 'display_data': [('UPDATE', '2025-04-29 12:42:04')]}, {'key': 'notebook preview', 'type': 'custom', 'uri': 'https://files.clear.ml/VGG16/Pipeline%20Step%203%20-%20Train%20Pneumonia%20Model.85eabaadfd7441a3b94c5c841a16794e/artifacts/notebook%20preview/notebook_85eabaadfd7441a3b94c5c841a16794e.html', 'content_size': 333760, 'hash': 'caadff2c928aa02e8513cb21152b276e9a40a58dd3a024f97c6977ba5fef621b', 'timestamp': 1745930527, 'type_data': {'preview': 'Click `FILE PATH` link', 'content_type': 'text/html'}, 'display_data': [('UPDATE', '2025-04-29 12:42:06')]}], force=True)\n",
            "Action failed <400/110: tasks.add_or_update_artifacts/v2.10 (Invalid task status: expected=created, status=stopped)> (task=85eabaadfd7441a3b94c5c841a16794e, artifacts=[{'key': 'best_model', 'type': 'custom', 'uri': 'https://files.clear.ml/VGG16/Pipeline%20Step%203%20-%20Train%20Pneumonia%20Model.85eabaadfd7441a3b94c5c841a16794e/artifacts/best_model/best_model.keras', 'content_size': 143603355, 'hash': '4b1f80a83f0ced8ecbea6d3796b17affa5728f1068b71096291113c0fb9112bb', 'timestamp': 1745924093, 'type_data': {'preview': 'best_model.keras - 143.6 MB\\n'}}, {'key': 'notebook preview', 'type': 'custom', 'uri': 'https://files.clear.ml/VGG16/Pipeline%20Step%203%20-%20Train%20Pneumonia%20Model.85eabaadfd7441a3b94c5c841a16794e/artifacts/notebook%20preview/notebook_85eabaadfd7441a3b94c5c841a16794e.html', 'content_size': 333760, 'hash': 'caadff2c928aa02e8513cb21152b276e9a40a58dd3a024f97c6977ba5fef621b', 'timestamp': 1745930527, 'type_data': {'preview': 'Click `FILE PATH` link', 'content_type': 'text/html'}, 'display_data': [('UPDATE', '2025-04-29 12:42:06')]}, {'key': 'notebook', 'type': 'custom', 'uri': 'https://files.clear.ml/VGG16/Pipeline%20Step%203%20-%20Train%20Pneumonia%20Model.85eabaadfd7441a3b94c5c841a16794e/artifacts/notebook/colab.ipynb', 'content_size': 49500, 'hash': '0ae7bdafe5da8bdc6903b49a93c1d934f21533281b5d803e3e790021ecd086d7', 'timestamp': 1745930559, 'type_data': {'preview': 'See `notebook preview` artifact'}, 'display_data': [('UPDATE', '2025-04-29 12:42:39')]}], force=True)\n",
            "Action failed <400/110: tasks.add_or_update_artifacts/v2.10 (Invalid task status: expected=created, status=stopped)> (task=85eabaadfd7441a3b94c5c841a16794e, artifacts=[{'key': 'best_model', 'type': 'custom', 'uri': 'https://files.clear.ml/VGG16/Pipeline%20Step%203%20-%20Train%20Pneumonia%20Model.85eabaadfd7441a3b94c5c841a16794e/artifacts/best_model/best_model.keras', 'content_size': 143603355, 'hash': '4b1f80a83f0ced8ecbea6d3796b17affa5728f1068b71096291113c0fb9112bb', 'timestamp': 1745924093, 'type_data': {'preview': 'best_model.keras - 143.6 MB\\n'}}, {'key': 'notebook', 'type': 'custom', 'uri': 'https://files.clear.ml/VGG16/Pipeline%20Step%203%20-%20Train%20Pneumonia%20Model.85eabaadfd7441a3b94c5c841a16794e/artifacts/notebook/colab.ipynb', 'content_size': 49500, 'hash': '0ae7bdafe5da8bdc6903b49a93c1d934f21533281b5d803e3e790021ecd086d7', 'timestamp': 1745930559, 'type_data': {'preview': 'See `notebook preview` artifact'}, 'display_data': [('UPDATE', '2025-04-29 12:42:39')]}, {'key': 'notebook preview', 'type': 'custom', 'uri': 'https://files.clear.ml/VGG16/Pipeline%20Step%203%20-%20Train%20Pneumonia%20Model.85eabaadfd7441a3b94c5c841a16794e/artifacts/notebook%20preview/notebook_85eabaadfd7441a3b94c5c841a16794e.html', 'content_size': 336790, 'hash': '386b4e2e323965785be063e6f453f29ebe3044c27bb9731f0b60c7d27d88b621', 'timestamp': 1745930562, 'type_data': {'preview': 'Click `FILE PATH` link', 'content_type': 'text/html'}, 'display_data': [('UPDATE', '2025-04-29 12:42:41')]}], force=True)\n",
            "Action failed <400/110: tasks.add_or_update_artifacts/v2.10 (Invalid task status: expected=created, status=stopped)> (task=85eabaadfd7441a3b94c5c841a16794e, artifacts=[{'key': 'best_model', 'type': 'custom', 'uri': 'https://files.clear.ml/VGG16/Pipeline%20Step%203%20-%20Train%20Pneumonia%20Model.85eabaadfd7441a3b94c5c841a16794e/artifacts/best_model/best_model.keras', 'content_size': 143603355, 'hash': '4b1f80a83f0ced8ecbea6d3796b17affa5728f1068b71096291113c0fb9112bb', 'timestamp': 1745924093, 'type_data': {'preview': 'best_model.keras - 143.6 MB\\n'}}, {'key': 'notebook preview', 'type': 'custom', 'uri': 'https://files.clear.ml/VGG16/Pipeline%20Step%203%20-%20Train%20Pneumonia%20Model.85eabaadfd7441a3b94c5c841a16794e/artifacts/notebook%20preview/notebook_85eabaadfd7441a3b94c5c841a16794e.html', 'content_size': 336790, 'hash': '386b4e2e323965785be063e6f453f29ebe3044c27bb9731f0b60c7d27d88b621', 'timestamp': 1745930562, 'type_data': {'preview': 'Click `FILE PATH` link', 'content_type': 'text/html'}, 'display_data': [('UPDATE', '2025-04-29 12:42:41')]}, {'key': 'notebook', 'type': 'custom', 'uri': 'https://files.clear.ml/VGG16/Pipeline%20Step%203%20-%20Train%20Pneumonia%20Model.85eabaadfd7441a3b94c5c841a16794e/artifacts/notebook/colab.ipynb', 'content_size': 52530, 'hash': 'c2c81340644b0578618f65d186070d192844b2c5a329159ad9649b303968e4be', 'timestamp': 1745930594, 'type_data': {'preview': 'See `notebook preview` artifact'}, 'display_data': [('UPDATE', '2025-04-29 12:43:14')]}], force=True)\n",
            "Action failed <400/110: tasks.add_or_update_artifacts/v2.10 (Invalid task status: expected=created, status=stopped)> (task=85eabaadfd7441a3b94c5c841a16794e, artifacts=[{'key': 'best_model', 'type': 'custom', 'uri': 'https://files.clear.ml/VGG16/Pipeline%20Step%203%20-%20Train%20Pneumonia%20Model.85eabaadfd7441a3b94c5c841a16794e/artifacts/best_model/best_model.keras', 'content_size': 143603355, 'hash': '4b1f80a83f0ced8ecbea6d3796b17affa5728f1068b71096291113c0fb9112bb', 'timestamp': 1745924093, 'type_data': {'preview': 'best_model.keras - 143.6 MB\\n'}}, {'key': 'notebook', 'type': 'custom', 'uri': 'https://files.clear.ml/VGG16/Pipeline%20Step%203%20-%20Train%20Pneumonia%20Model.85eabaadfd7441a3b94c5c841a16794e/artifacts/notebook/colab.ipynb', 'content_size': 52530, 'hash': 'c2c81340644b0578618f65d186070d192844b2c5a329159ad9649b303968e4be', 'timestamp': 1745930594, 'type_data': {'preview': 'See `notebook preview` artifact'}, 'display_data': [('UPDATE', '2025-04-29 12:43:14')]}, {'key': 'notebook preview', 'type': 'custom', 'uri': 'https://files.clear.ml/VGG16/Pipeline%20Step%203%20-%20Train%20Pneumonia%20Model.85eabaadfd7441a3b94c5c841a16794e/artifacts/notebook%20preview/notebook_85eabaadfd7441a3b94c5c841a16794e.html', 'content_size': 339820, 'hash': '2d4f3f8e6865fbbcad2a80b5c6c7beb697f972b0662a56f9ea43ab29ba333117', 'timestamp': 1745930597, 'type_data': {'preview': 'Click `FILE PATH` link', 'content_type': 'text/html'}, 'display_data': [('UPDATE', '2025-04-29 12:43:16')]}], force=True)\n"
          ]
        },
        {
          "output_type": "error",
          "ename": "KeyboardInterrupt",
          "evalue": "",
          "traceback": [
            "\u001b[0;31m---------------------------------------------------------------------------\u001b[0m",
            "\u001b[0;31mKeyboardInterrupt\u001b[0m                         Traceback (most recent call last)",
            "\u001b[0;32m<ipython-input-18-c19504b9e94f>\u001b[0m in \u001b[0;36m<cell line: 0>\u001b[0;34m()\u001b[0m\n\u001b[1;32m      1\u001b[0m \u001b[0;31m# pipe.start(queue=\"pipeline\")\u001b[0m\u001b[0;34m\u001b[0m\u001b[0;34m\u001b[0m\u001b[0m\n\u001b[0;32m----> 2\u001b[0;31m \u001b[0mget_ipython\u001b[0m\u001b[0;34m(\u001b[0m\u001b[0;34m)\u001b[0m\u001b[0;34m.\u001b[0m\u001b[0msystem\u001b[0m\u001b[0;34m(\u001b[0m\u001b[0;34m'clearml-agent daemon --queue vgg16 --detached'\u001b[0m\u001b[0;34m)\u001b[0m\u001b[0;34m\u001b[0m\u001b[0;34m\u001b[0m\u001b[0m\n\u001b[0m",
            "\u001b[0;32m/usr/local/lib/python3.11/dist-packages/google/colab/_shell.py\u001b[0m in \u001b[0;36msystem\u001b[0;34m(self, *args, **kwargs)\u001b[0m\n\u001b[1;32m    121\u001b[0m       \u001b[0mkwargs\u001b[0m\u001b[0;34m.\u001b[0m\u001b[0mupdate\u001b[0m\u001b[0;34m(\u001b[0m\u001b[0;34m{\u001b[0m\u001b[0;34m'also_return_output'\u001b[0m\u001b[0;34m:\u001b[0m \u001b[0;32mTrue\u001b[0m\u001b[0;34m}\u001b[0m\u001b[0;34m)\u001b[0m\u001b[0;34m\u001b[0m\u001b[0;34m\u001b[0m\u001b[0m\n\u001b[1;32m    122\u001b[0m \u001b[0;34m\u001b[0m\u001b[0m\n\u001b[0;32m--> 123\u001b[0;31m     \u001b[0moutput\u001b[0m \u001b[0;34m=\u001b[0m \u001b[0m_system_commands\u001b[0m\u001b[0;34m.\u001b[0m\u001b[0m_system_compat\u001b[0m\u001b[0;34m(\u001b[0m\u001b[0mself\u001b[0m\u001b[0;34m,\u001b[0m \u001b[0;34m*\u001b[0m\u001b[0margs\u001b[0m\u001b[0;34m,\u001b[0m \u001b[0;34m**\u001b[0m\u001b[0mkwargs\u001b[0m\u001b[0;34m)\u001b[0m  \u001b[0;31m# pylint:disable=protected-access\u001b[0m\u001b[0;34m\u001b[0m\u001b[0;34m\u001b[0m\u001b[0m\n\u001b[0m\u001b[1;32m    124\u001b[0m \u001b[0;34m\u001b[0m\u001b[0m\n\u001b[1;32m    125\u001b[0m     \u001b[0;32mif\u001b[0m \u001b[0mpip_warn\u001b[0m\u001b[0;34m:\u001b[0m\u001b[0;34m\u001b[0m\u001b[0;34m\u001b[0m\u001b[0m\n",
            "\u001b[0;32m/usr/local/lib/python3.11/dist-packages/google/colab/_system_commands.py\u001b[0m in \u001b[0;36m_system_compat\u001b[0;34m(shell, cmd, also_return_output)\u001b[0m\n\u001b[1;32m    452\u001b[0m   \u001b[0;31m# is expected to call this function, thus adding one level of nesting to the\u001b[0m\u001b[0;34m\u001b[0m\u001b[0;34m\u001b[0m\u001b[0m\n\u001b[1;32m    453\u001b[0m   \u001b[0;31m# stack.\u001b[0m\u001b[0;34m\u001b[0m\u001b[0;34m\u001b[0m\u001b[0m\n\u001b[0;32m--> 454\u001b[0;31m   result = _run_command(\n\u001b[0m\u001b[1;32m    455\u001b[0m       \u001b[0mshell\u001b[0m\u001b[0;34m.\u001b[0m\u001b[0mvar_expand\u001b[0m\u001b[0;34m(\u001b[0m\u001b[0mcmd\u001b[0m\u001b[0;34m,\u001b[0m \u001b[0mdepth\u001b[0m\u001b[0;34m=\u001b[0m\u001b[0;36m2\u001b[0m\u001b[0;34m)\u001b[0m\u001b[0;34m,\u001b[0m \u001b[0mclear_streamed_output\u001b[0m\u001b[0;34m=\u001b[0m\u001b[0;32mFalse\u001b[0m\u001b[0;34m\u001b[0m\u001b[0;34m\u001b[0m\u001b[0m\n\u001b[1;32m    456\u001b[0m   )\n",
            "\u001b[0;32m/usr/local/lib/python3.11/dist-packages/google/colab/_system_commands.py\u001b[0m in \u001b[0;36m_run_command\u001b[0;34m(cmd, clear_streamed_output)\u001b[0m\n\u001b[1;32m    202\u001b[0m       \u001b[0mos\u001b[0m\u001b[0;34m.\u001b[0m\u001b[0mclose\u001b[0m\u001b[0;34m(\u001b[0m\u001b[0mchild_pty\u001b[0m\u001b[0;34m)\u001b[0m\u001b[0;34m\u001b[0m\u001b[0;34m\u001b[0m\u001b[0m\n\u001b[1;32m    203\u001b[0m \u001b[0;34m\u001b[0m\u001b[0m\n\u001b[0;32m--> 204\u001b[0;31m       \u001b[0;32mreturn\u001b[0m \u001b[0m_monitor_process\u001b[0m\u001b[0;34m(\u001b[0m\u001b[0mparent_pty\u001b[0m\u001b[0;34m,\u001b[0m \u001b[0mepoll\u001b[0m\u001b[0;34m,\u001b[0m \u001b[0mp\u001b[0m\u001b[0;34m,\u001b[0m \u001b[0mcmd\u001b[0m\u001b[0;34m,\u001b[0m \u001b[0mupdate_stdin_widget\u001b[0m\u001b[0;34m)\u001b[0m\u001b[0;34m\u001b[0m\u001b[0;34m\u001b[0m\u001b[0m\n\u001b[0m\u001b[1;32m    205\u001b[0m   \u001b[0;32mfinally\u001b[0m\u001b[0;34m:\u001b[0m\u001b[0;34m\u001b[0m\u001b[0;34m\u001b[0m\u001b[0m\n\u001b[1;32m    206\u001b[0m     \u001b[0mepoll\u001b[0m\u001b[0;34m.\u001b[0m\u001b[0mclose\u001b[0m\u001b[0;34m(\u001b[0m\u001b[0;34m)\u001b[0m\u001b[0;34m\u001b[0m\u001b[0;34m\u001b[0m\u001b[0m\n",
            "\u001b[0;32m/usr/local/lib/python3.11/dist-packages/google/colab/_system_commands.py\u001b[0m in \u001b[0;36m_monitor_process\u001b[0;34m(parent_pty, epoll, p, cmd, update_stdin_widget)\u001b[0m\n\u001b[1;32m    232\u001b[0m   \u001b[0;32mwhile\u001b[0m \u001b[0;32mTrue\u001b[0m\u001b[0;34m:\u001b[0m\u001b[0;34m\u001b[0m\u001b[0;34m\u001b[0m\u001b[0m\n\u001b[1;32m    233\u001b[0m     \u001b[0;32mtry\u001b[0m\u001b[0;34m:\u001b[0m\u001b[0;34m\u001b[0m\u001b[0;34m\u001b[0m\u001b[0m\n\u001b[0;32m--> 234\u001b[0;31m       \u001b[0mresult\u001b[0m \u001b[0;34m=\u001b[0m \u001b[0m_poll_process\u001b[0m\u001b[0;34m(\u001b[0m\u001b[0mparent_pty\u001b[0m\u001b[0;34m,\u001b[0m \u001b[0mepoll\u001b[0m\u001b[0;34m,\u001b[0m \u001b[0mp\u001b[0m\u001b[0;34m,\u001b[0m \u001b[0mcmd\u001b[0m\u001b[0;34m,\u001b[0m \u001b[0mdecoder\u001b[0m\u001b[0;34m,\u001b[0m \u001b[0mstate\u001b[0m\u001b[0;34m)\u001b[0m\u001b[0;34m\u001b[0m\u001b[0;34m\u001b[0m\u001b[0m\n\u001b[0m\u001b[1;32m    235\u001b[0m       \u001b[0;32mif\u001b[0m \u001b[0mresult\u001b[0m \u001b[0;32mis\u001b[0m \u001b[0;32mnot\u001b[0m \u001b[0;32mNone\u001b[0m\u001b[0;34m:\u001b[0m\u001b[0;34m\u001b[0m\u001b[0;34m\u001b[0m\u001b[0m\n\u001b[1;32m    236\u001b[0m         \u001b[0;32mreturn\u001b[0m \u001b[0mresult\u001b[0m\u001b[0;34m\u001b[0m\u001b[0;34m\u001b[0m\u001b[0m\n",
            "\u001b[0;32m/usr/local/lib/python3.11/dist-packages/google/colab/_system_commands.py\u001b[0m in \u001b[0;36m_poll_process\u001b[0;34m(parent_pty, epoll, p, cmd, decoder, state)\u001b[0m\n\u001b[1;32m    280\u001b[0m   \u001b[0moutput_available\u001b[0m \u001b[0;34m=\u001b[0m \u001b[0;32mFalse\u001b[0m\u001b[0;34m\u001b[0m\u001b[0;34m\u001b[0m\u001b[0m\n\u001b[1;32m    281\u001b[0m \u001b[0;34m\u001b[0m\u001b[0m\n\u001b[0;32m--> 282\u001b[0;31m   \u001b[0mevents\u001b[0m \u001b[0;34m=\u001b[0m \u001b[0mepoll\u001b[0m\u001b[0;34m.\u001b[0m\u001b[0mpoll\u001b[0m\u001b[0;34m(\u001b[0m\u001b[0;34m)\u001b[0m\u001b[0;34m\u001b[0m\u001b[0;34m\u001b[0m\u001b[0m\n\u001b[0m\u001b[1;32m    283\u001b[0m   \u001b[0minput_events\u001b[0m \u001b[0;34m=\u001b[0m \u001b[0;34m[\u001b[0m\u001b[0;34m]\u001b[0m\u001b[0;34m\u001b[0m\u001b[0;34m\u001b[0m\u001b[0m\n\u001b[1;32m    284\u001b[0m   \u001b[0;32mfor\u001b[0m \u001b[0m_\u001b[0m\u001b[0;34m,\u001b[0m \u001b[0mevent\u001b[0m \u001b[0;32min\u001b[0m \u001b[0mevents\u001b[0m\u001b[0;34m:\u001b[0m\u001b[0;34m\u001b[0m\u001b[0;34m\u001b[0m\u001b[0m\n",
            "\u001b[0;31mKeyboardInterrupt\u001b[0m: "
          ]
        }
      ]
    }
  ]
}
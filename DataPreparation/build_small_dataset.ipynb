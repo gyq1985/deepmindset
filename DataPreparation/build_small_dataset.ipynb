{
  "nbformat": 4,
  "nbformat_minor": 0,
  "metadata": {
    "colab": {
      "provenance": [],
      "authorship_tag": "ABX9TyM2gKsRCo2fGf+dMKfcQfem",
      "include_colab_link": true
    },
    "kernelspec": {
      "name": "python3",
      "display_name": "Python 3"
    },
    "language_info": {
      "name": "python"
    }
  },
  "cells": [
    {
      "cell_type": "markdown",
      "metadata": {
        "id": "view-in-github",
        "colab_type": "text"
      },
      "source": [
        "<a href=\"https://colab.research.google.com/github/gyq1985/deepmindset/blob/main/build_small_dataset.ipynb\" target=\"_parent\"><img src=\"https://colab.research.google.com/assets/colab-badge.svg\" alt=\"Open In Colab\"/></a>"
      ]
    },
    {
      "cell_type": "code",
      "source": [
        "from google.colab import drive\n",
        "drive.mount('/content/drive')"
      ],
      "metadata": {
        "colab": {
          "base_uri": "https://localhost:8080/"
        },
        "id": "wocpU1yDLZLO",
        "outputId": "b366c93a-2e2a-483c-966f-e55cab9fa3c0"
      },
      "execution_count": 2,
      "outputs": [
        {
          "output_type": "stream",
          "name": "stdout",
          "text": [
            "Mounted at /content/drive\n"
          ]
        }
      ]
    },
    {
      "cell_type": "code",
      "execution_count": 3,
      "metadata": {
        "id": "CkQ8fpkLIJDU"
      },
      "outputs": [],
      "source": [
        "import os, shutil\n",
        "from pathlib import Path\n",
        "\n",
        "original_dir = \"/content/drive/Shared drives/Deepmindset/dataset/COVID-19_Radiography_Dataset\"\n",
        "small_dir = \"/content/small_dataset\"\n",
        "\n",
        "if not os.path.exists(small_dir):\n",
        "    os.makedirs(small_dir)\n",
        "    for category in os.listdir(original_dir):\n",
        "        cat_path = os.path.join(original_dir, category)\n",
        "        img_path = os.path.join(cat_path, \"images\")\n",
        "        if os.path.isdir(img_path):\n",
        "            dest_cat = os.path.join(small_dir, category)\n",
        "            os.makedirs(dest_cat, exist_ok=True)\n",
        "            image_files = [f for f in os.listdir(img_path) if f.lower().endswith(('.png', '.jpg', '.jpeg'))]\n",
        "            for i, fname in enumerate(image_files[:3000]):\n",
        "                src = os.path.join(img_path, fname)\n",
        "                dst = os.path.join(dest_cat, fname)\n",
        "                shutil.copyfile(src, dst)"
      ]
    },
    {
      "cell_type": "code",
      "source": [
        "import os\n",
        "\n",
        "small_path = \"/content/small_dataset\"\n",
        "for category in os.listdir(small_path):\n",
        "    folder = os.path.join(small_path, category)\n",
        "    if os.path.isdir(folder):\n",
        "        print(f\"{category}: {len(os.listdir(folder))} images\")"
      ],
      "metadata": {
        "colab": {
          "base_uri": "https://localhost:8080/"
        },
        "id": "mggD0nNoIWVI",
        "outputId": "2a2a3c92-5e18-4883-f9ed-2cc835786ebd"
      },
      "execution_count": 4,
      "outputs": [
        {
          "output_type": "stream",
          "name": "stdout",
          "text": [
            "COVID: 3000 images\n",
            "Lung_Opacity: 3000 images\n",
            "Normal: 3000 images\n",
            "Viral Pneumonia: 1345 images\n"
          ]
        }
      ]
    }
  ]
}